{
 "cells": [
  {
   "cell_type": "code",
   "execution_count": 2,
   "metadata": {},
   "outputs": [],
   "source": [
    "import math\n",
    "import ipywidgets as widgets"
   ]
  },
  {
   "cell_type": "code",
   "execution_count": 3,
   "metadata": {},
   "outputs": [
    {
     "data": {
      "text/plain": [
       "'radius a:'"
      ]
     },
     "metadata": {},
     "output_type": "display_data"
    },
    {
     "data": {
      "application/vnd.jupyter.widget-view+json": {
       "model_id": "ed60c14e6b5a42bea70a49169ee666d2",
       "version_major": 2,
       "version_minor": 0
      },
      "text/plain": [
       "FloatText(value=0.0)"
      ]
     },
     "metadata": {},
     "output_type": "display_data"
    },
    {
     "data": {
      "text/plain": [
       "'radius b:'"
      ]
     },
     "metadata": {},
     "output_type": "display_data"
    },
    {
     "data": {
      "application/vnd.jupyter.widget-view+json": {
       "model_id": "79e607fb6cde4f37919be13cf55118a7",
       "version_major": 2,
       "version_minor": 0
      },
      "text/plain": [
       "FloatText(value=0.0)"
      ]
     },
     "metadata": {},
     "output_type": "display_data"
    },
    {
     "data": {
      "text/plain": [
       "'angle theta:'"
      ]
     },
     "metadata": {},
     "output_type": "display_data"
    },
    {
     "data": {
      "application/vnd.jupyter.widget-view+json": {
       "model_id": "7fc8367da815445c818a0b8ae48035cf",
       "version_major": 2,
       "version_minor": 0
      },
      "text/plain": [
       "FloatText(value=0.0)"
      ]
     },
     "metadata": {},
     "output_type": "display_data"
    },
    {
     "data": {
      "text/plain": [
       "'current i:'"
      ]
     },
     "metadata": {},
     "output_type": "display_data"
    },
    {
     "data": {
      "application/vnd.jupyter.widget-view+json": {
       "model_id": "7186bee079fc420da36211d50d603020",
       "version_major": 2,
       "version_minor": 0
      },
      "text/plain": [
       "FloatText(value=0.0)"
      ]
     },
     "metadata": {},
     "output_type": "display_data"
    },
    {
     "name": "stdout",
     "output_type": "stream",
     "text": [
      "\n",
      "\n"
     ]
    },
    {
     "data": {
      "text/plain": [
       "'Magnitude:'"
      ]
     },
     "metadata": {},
     "output_type": "display_data"
    },
    {
     "data": {
      "application/vnd.jupyter.widget-view+json": {
       "model_id": "bfec73c0b27443a09adaf0f47dbd1c54",
       "version_major": 2,
       "version_minor": 0
      },
      "text/plain": [
       "Text(value='')"
      ]
     },
     "metadata": {},
     "output_type": "display_data"
    },
    {
     "data": {
      "text/plain": [
       "'Direction:'"
      ]
     },
     "metadata": {},
     "output_type": "display_data"
    },
    {
     "data": {
      "application/vnd.jupyter.widget-view+json": {
       "model_id": "d253621022a142d79214ced230adc948",
       "version_major": 2,
       "version_minor": 0
      },
      "text/plain": [
       "Text(value='')"
      ]
     },
     "metadata": {},
     "output_type": "display_data"
    }
   ],
   "source": [
    "a = widgets.FloatText()\n",
    "b = widgets.FloatText()\n",
    "O = widgets.FloatText()\n",
    "i = widgets.FloatText()\n",
    "out1 = widgets.Text()\n",
    "out2 = widgets.Text()\n",
    "display(\"radius a:\",a)\n",
    "display(\"radius b:\",b)\n",
    "display(\"angle theta:\",O)\n",
    "display(\"current i:\",i)\n",
    "print(\"\\n\")\n",
    "display(\"Magnitude:\",out1)\n",
    "display(\"Direction:\",out2)\n",
    "u = 4*math.pi*1e-7\n",
    "val = 0.0\n",
    "def on_value_change(change):\n",
    "    if (a.value != 0 and b.value != 0):\n",
    "        val = ((u*i.value*(O.value*math.pi/180))/(4*math.pi))*((1/b.value)-(1/a.value))\n",
    "        if val < 0:\n",
    "            val = abs(val)\n",
    "            out2.value = \"In\"\n",
    "        elif val > 0:\n",
    "            out2.value = \"Out\"\n",
    "        else:\n",
    "            out2.value = \"\"\n",
    "        out1.value = str(val) + \" T\"\n",
    "a.observe(on_value_change, names='value')\n",
    "b.observe(on_value_change, names='value')\n",
    "O.observe(on_value_change, names='value')\n",
    "i.observe(on_value_change, names='value')\n",
    "from ipywidgets.embed import embed_minimal_html\n",
    "embed_minimal_html('hw12p5', views=[a,b,O,i,out1,out2], title='Problem export')"
   ]
  },
  {
   "cell_type": "code",
   "execution_count": null,
   "metadata": {},
   "outputs": [],
   "source": []
  }
 ],
 "metadata": {
  "kernelspec": {
   "display_name": "Python 3",
   "language": "python",
   "name": "python3"
  },
  "language_info": {
   "codemirror_mode": {
    "name": "ipython",
    "version": 3
   },
   "file_extension": ".py",
   "mimetype": "text/x-python",
   "name": "python",
   "nbconvert_exporter": "python",
   "pygments_lexer": "ipython3",
   "version": "3.8.3"
  }
 },
 "nbformat": 4,
 "nbformat_minor": 4
}
